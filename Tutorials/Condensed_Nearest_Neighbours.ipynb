{
 "cells": [
  {
   "cell_type": "code",
   "execution_count": 2,
   "id": "6c6bf32c",
   "metadata": {},
   "outputs": [],
   "source": [
    "import numpy as np\n",
    "import seaborn as sns\n",
    "from sklearn.ensemble import RandomForestClassifier\n",
    "from sklearn.metrics import roc_auc_score\n",
    "from sklearn.model_selection import train_test_split\n",
    "import pandas as pd\n",
    "\n",
    "from imblearn.under_sampling import CondensedNearestNeighbour"
   ]
  },
  {
   "cell_type": "code",
   "execution_count": 13,
   "id": "57f91e91",
   "metadata": {},
   "outputs": [
    {
     "data": {
      "text/html": [
       "<div>\n",
       "<style scoped>\n",
       "    .dataframe tbody tr th:only-of-type {\n",
       "        vertical-align: middle;\n",
       "    }\n",
       "\n",
       "    .dataframe tbody tr th {\n",
       "        vertical-align: top;\n",
       "    }\n",
       "\n",
       "    .dataframe thead th {\n",
       "        text-align: right;\n",
       "    }\n",
       "</style>\n",
       "<table border=\"1\" class=\"dataframe\">\n",
       "  <thead>\n",
       "    <tr style=\"text-align: right;\">\n",
       "      <th></th>\n",
       "      <th>0</th>\n",
       "      <th>1</th>\n",
       "      <th>2</th>\n",
       "      <th>3</th>\n",
       "      <th>4</th>\n",
       "      <th>5</th>\n",
       "      <th>6</th>\n",
       "      <th>7</th>\n",
       "      <th>8</th>\n",
       "      <th>9</th>\n",
       "      <th>...</th>\n",
       "      <th>65</th>\n",
       "      <th>66</th>\n",
       "      <th>67</th>\n",
       "      <th>68</th>\n",
       "      <th>69</th>\n",
       "      <th>70</th>\n",
       "      <th>71</th>\n",
       "      <th>72</th>\n",
       "      <th>73</th>\n",
       "      <th>target</th>\n",
       "    </tr>\n",
       "  </thead>\n",
       "  <tbody>\n",
       "    <tr>\n",
       "      <th>31423</th>\n",
       "      <td>51.33</td>\n",
       "      <td>29.31</td>\n",
       "      <td>0.74</td>\n",
       "      <td>26.5</td>\n",
       "      <td>-3.5</td>\n",
       "      <td>599.2</td>\n",
       "      <td>0.77</td>\n",
       "      <td>-0.44</td>\n",
       "      <td>-5.0</td>\n",
       "      <td>-50.0</td>\n",
       "      <td>...</td>\n",
       "      <td>776.3</td>\n",
       "      <td>0.07</td>\n",
       "      <td>2.45</td>\n",
       "      <td>5.0</td>\n",
       "      <td>-43.0</td>\n",
       "      <td>433.9</td>\n",
       "      <td>-0.21</td>\n",
       "      <td>0.43</td>\n",
       "      <td>0.34</td>\n",
       "      <td>-1</td>\n",
       "    </tr>\n",
       "    <tr>\n",
       "      <th>29469</th>\n",
       "      <td>41.59</td>\n",
       "      <td>28.57</td>\n",
       "      <td>1.16</td>\n",
       "      <td>1.0</td>\n",
       "      <td>-25.0</td>\n",
       "      <td>452.5</td>\n",
       "      <td>0.76</td>\n",
       "      <td>-1.17</td>\n",
       "      <td>-20.0</td>\n",
       "      <td>-44.0</td>\n",
       "      <td>...</td>\n",
       "      <td>131.9</td>\n",
       "      <td>2.05</td>\n",
       "      <td>-0.32</td>\n",
       "      <td>-3.0</td>\n",
       "      <td>-37.0</td>\n",
       "      <td>59.4</td>\n",
       "      <td>-0.11</td>\n",
       "      <td>-0.07</td>\n",
       "      <td>-0.43</td>\n",
       "      <td>-1</td>\n",
       "    </tr>\n",
       "    <tr>\n",
       "      <th>142953</th>\n",
       "      <td>52.17</td>\n",
       "      <td>25.81</td>\n",
       "      <td>1.02</td>\n",
       "      <td>22.5</td>\n",
       "      <td>18.5</td>\n",
       "      <td>1305.1</td>\n",
       "      <td>0.88</td>\n",
       "      <td>2.50</td>\n",
       "      <td>35.5</td>\n",
       "      <td>-74.5</td>\n",
       "      <td>...</td>\n",
       "      <td>1667.8</td>\n",
       "      <td>-0.63</td>\n",
       "      <td>3.36</td>\n",
       "      <td>15.0</td>\n",
       "      <td>-43.0</td>\n",
       "      <td>174.7</td>\n",
       "      <td>0.31</td>\n",
       "      <td>-0.09</td>\n",
       "      <td>0.52</td>\n",
       "      <td>-1</td>\n",
       "    </tr>\n",
       "    <tr>\n",
       "      <th>138734</th>\n",
       "      <td>54.40</td>\n",
       "      <td>33.82</td>\n",
       "      <td>1.18</td>\n",
       "      <td>15.0</td>\n",
       "      <td>-12.0</td>\n",
       "      <td>997.2</td>\n",
       "      <td>-0.16</td>\n",
       "      <td>-0.32</td>\n",
       "      <td>-15.0</td>\n",
       "      <td>-55.5</td>\n",
       "      <td>...</td>\n",
       "      <td>710.9</td>\n",
       "      <td>-0.65</td>\n",
       "      <td>0.75</td>\n",
       "      <td>10.0</td>\n",
       "      <td>-54.0</td>\n",
       "      <td>521.2</td>\n",
       "      <td>-1.23</td>\n",
       "      <td>0.37</td>\n",
       "      <td>-0.04</td>\n",
       "      <td>-1</td>\n",
       "    </tr>\n",
       "    <tr>\n",
       "      <th>87828</th>\n",
       "      <td>49.57</td>\n",
       "      <td>31.58</td>\n",
       "      <td>0.29</td>\n",
       "      <td>17.5</td>\n",
       "      <td>0.5</td>\n",
       "      <td>614.1</td>\n",
       "      <td>-0.34</td>\n",
       "      <td>-0.46</td>\n",
       "      <td>-15.5</td>\n",
       "      <td>-49.0</td>\n",
       "      <td>...</td>\n",
       "      <td>846.2</td>\n",
       "      <td>-1.08</td>\n",
       "      <td>1.42</td>\n",
       "      <td>14.0</td>\n",
       "      <td>-44.0</td>\n",
       "      <td>141.8</td>\n",
       "      <td>0.11</td>\n",
       "      <td>0.23</td>\n",
       "      <td>-0.48</td>\n",
       "      <td>-1</td>\n",
       "    </tr>\n",
       "  </tbody>\n",
       "</table>\n",
       "<p>5 rows × 75 columns</p>\n",
       "</div>"
      ],
      "text/plain": [
       "            0      1     2     3     4       5     6     7     8     9  ...  \\\n",
       "31423   51.33  29.31  0.74  26.5  -3.5   599.2  0.77 -0.44  -5.0 -50.0  ...   \n",
       "29469   41.59  28.57  1.16   1.0 -25.0   452.5  0.76 -1.17 -20.0 -44.0  ...   \n",
       "142953  52.17  25.81  1.02  22.5  18.5  1305.1  0.88  2.50  35.5 -74.5  ...   \n",
       "138734  54.40  33.82  1.18  15.0 -12.0   997.2 -0.16 -0.32 -15.0 -55.5  ...   \n",
       "87828   49.57  31.58  0.29  17.5   0.5   614.1 -0.34 -0.46 -15.5 -49.0  ...   \n",
       "\n",
       "            65    66    67    68    69     70    71    72    73  target  \n",
       "31423    776.3  0.07  2.45   5.0 -43.0  433.9 -0.21  0.43  0.34      -1  \n",
       "29469    131.9  2.05 -0.32  -3.0 -37.0   59.4 -0.11 -0.07 -0.43      -1  \n",
       "142953  1667.8 -0.63  3.36  15.0 -43.0  174.7  0.31 -0.09  0.52      -1  \n",
       "138734   710.9 -0.65  0.75  10.0 -54.0  521.2 -1.23  0.37 -0.04      -1  \n",
       "87828    846.2 -1.08  1.42  14.0 -44.0  141.8  0.11  0.23 -0.48      -1  \n",
       "\n",
       "[5 rows x 75 columns]"
      ]
     },
     "execution_count": 13,
     "metadata": {},
     "output_type": "execute_result"
    }
   ],
   "source": [
    "#Load data\n",
    "\n",
    "data = pd.read_csv('kdd2004.csv').sample(10000)\n",
    "\n",
    "data.head()"
   ]
  },
  {
   "cell_type": "code",
   "execution_count": 14,
   "id": "9fe1f986",
   "metadata": {},
   "outputs": [
    {
     "data": {
      "text/plain": [
       "-1    9907\n",
       " 1      93\n",
       "Name: target, dtype: int64"
      ]
     },
     "execution_count": 14,
     "metadata": {},
     "output_type": "execute_result"
    }
   ],
   "source": [
    "#Number of samples of each class\n",
    "data['target'].value_counts()"
   ]
  },
  {
   "cell_type": "code",
   "execution_count": 15,
   "id": "47e4abdc",
   "metadata": {},
   "outputs": [
    {
     "data": {
      "text/plain": [
       "-1    0.9907\n",
       " 1    0.0093\n",
       "Name: target, dtype: float64"
      ]
     },
     "execution_count": 15,
     "metadata": {},
     "output_type": "execute_result"
    }
   ],
   "source": [
    "#Proportion of each class\n",
    "data['target'].value_counts()/len(data['target'])"
   ]
  },
  {
   "cell_type": "code",
   "execution_count": 20,
   "id": "ad4a7473",
   "metadata": {},
   "outputs": [],
   "source": [
    "#separate dataset into train and test \n",
    "\n",
    "x_train,x_test,y_train,y_test=train_test_split(data.drop(labels=['target'],axis=1),\n",
    "                                              data['target'],\n",
    "                                              test_size=0.3,\n",
    "                                              random_state=0)"
   ]
  },
  {
   "cell_type": "code",
   "execution_count": 21,
   "id": "f081ba41",
   "metadata": {},
   "outputs": [
    {
     "data": {
      "text/plain": [
       "(7000, 74)"
      ]
     },
     "execution_count": 21,
     "metadata": {},
     "output_type": "execute_result"
    }
   ],
   "source": [
    "x_train.shape"
   ]
  },
  {
   "cell_type": "code",
   "execution_count": 22,
   "id": "b1eb08b7",
   "metadata": {},
   "outputs": [
    {
     "data": {
      "text/plain": [
       "(3000, 74)"
      ]
     },
     "execution_count": 22,
     "metadata": {},
     "output_type": "execute_result"
    }
   ],
   "source": [
    "x_test.shape"
   ]
  },
  {
   "cell_type": "code",
   "execution_count": 24,
   "id": "d494270a",
   "metadata": {},
   "outputs": [
    {
     "data": {
      "text/plain": [
       "-1    0.990571\n",
       " 1    0.009429\n",
       "Name: target, dtype: float64"
      ]
     },
     "execution_count": 24,
     "metadata": {},
     "output_type": "execute_result"
    }
   ],
   "source": [
    "y_train.value_counts()/len(y_train)"
   ]
  },
  {
   "cell_type": "code",
   "execution_count": 25,
   "id": "94c57534",
   "metadata": {},
   "outputs": [
    {
     "data": {
      "text/plain": [
       "-1    0.991\n",
       " 1    0.009\n",
       "Name: target, dtype: float64"
      ]
     },
     "execution_count": 25,
     "metadata": {},
     "output_type": "execute_result"
    }
   ],
   "source": [
    "y_test.value_counts()/len(y_test)"
   ]
  },
  {
   "cell_type": "markdown",
   "id": "efaac2c1",
   "metadata": {},
   "source": [
    "# Condensed Nearest Neighbours"
   ]
  },
  {
   "cell_type": "code",
   "execution_count": 34,
   "id": "74aafb8d",
   "metadata": {},
   "outputs": [],
   "source": [
    "def condensed_nearest_neighbour(x,y,n_neighbours):\n",
    "    '''\n",
    "    x - inputs \n",
    "    y - outputs\n",
    "    n_neighbours -number of neighbours\n",
    "    '''\n",
    "    cnn=CondensedNearestNeighbour(\n",
    "                    sampling_strategy='auto',\n",
    "                    random_state=0,\n",
    "                    n_neighbors=n_neighbours)\n",
    "    x_resampled,y_resampled=cnn.fit_resample(x_train,y_train)\n",
    "    return x_resampled,y_resampled"
   ]
  },
  {
   "cell_type": "code",
   "execution_count": 35,
   "id": "eb3f42e6",
   "metadata": {},
   "outputs": [],
   "source": [
    "#Resampling the dataset\n",
    "\n",
    "x_resampled,y_resampled=condensed_nearest_neighbour(x_train,y_train,1)"
   ]
  },
  {
   "cell_type": "code",
   "execution_count": 36,
   "id": "4d77399b",
   "metadata": {},
   "outputs": [
    {
     "data": {
      "text/plain": [
       "(348, 74)"
      ]
     },
     "execution_count": 36,
     "metadata": {},
     "output_type": "execute_result"
    }
   ],
   "source": [
    "x_resampled.shape"
   ]
  },
  {
   "cell_type": "code",
   "execution_count": 37,
   "id": "ec096b7e",
   "metadata": {},
   "outputs": [
    {
     "data": {
      "text/plain": [
       "(348,)"
      ]
     },
     "execution_count": 37,
     "metadata": {},
     "output_type": "execute_result"
    }
   ],
   "source": [
    "y_resampled.shape"
   ]
  },
  {
   "cell_type": "code",
   "execution_count": null,
   "id": "3b74e472",
   "metadata": {},
   "outputs": [],
   "source": [
    "sns.scatterplot(data=X_train,\n",
    "                x=\"0\",\n",
    "                y=\"1\",\n",
    "                hue=y_train)"
   ]
  },
  {
   "cell_type": "code",
   "execution_count": 48,
   "id": "8da8f28c",
   "metadata": {},
   "outputs": [
    {
     "data": {
      "text/plain": [
       "[Text(0.5, 1.0, 'Original dataset')]"
      ]
     },
     "execution_count": 48,
     "metadata": {},
     "output_type": "execute_result"
    },
    {
     "data": {
      "image/png": "[encoded data removed]",
      "text/plain": [
       "<Figure size 432x288 with 1 Axes>"
      ]
     },
     "metadata": {
      "needs_background": "light"
     },
     "output_type": "display_data"
    }
   ],
   "source": [
    "sns.scatterplot(data=x_train.sample(2000,random_state=0),\n",
    "               x=\"0\",\n",
    "               y=\"1\",\n",
    "               hue=y_train).set(title=\"Original dataset\")"
   ]
  },
  {
   "cell_type": "code",
   "execution_count": 44,
   "id": "eef74049",
   "metadata": {},
   "outputs": [
    {
     "data": {
      "text/plain": [
       "[Text(0.5, 1.0, 'Resampled dataset')]"
      ]
     },
     "execution_count": 44,
     "metadata": {},
     "output_type": "execute_result"
    },
    {
     "data": {
      "image/png": "[encoded data removed]",
      "text/plain": [
       "<Figure size 432x288 with 1 Axes>"
      ]
     },
     "metadata": {
      "needs_background": "light"
     },
     "output_type": "display_data"
    }
   ],
   "source": [
    "sns.scatterplot(data=x_resampled,\n",
    "               x=\"0\",\n",
    "               y=\"1\",\n",
    "               hue=y_resampled).set(title=\"Resampled dataset\")"
   ]
  },
  {
   "cell_type": "code",
   "execution_count": 49,
   "id": "665f38d1",
   "metadata": {},
   "outputs": [],
   "source": [
    "#function to train random forest model \n",
    "\n",
    "def train_evaluate_randomforest(x_train,x_test,y_train,y_test):\n",
    "    rf=RandomForestClassifier(n_estimators=200,random_state=39,max_depth=4)\n",
    "    rf.fit(x_train,y_train)\n",
    "    \n",
    "    pred=rf.predict_proba(x_test)\n",
    "    result=roc_auc_score(y_test,pred[:,1])\n",
    "    return result"
   ]
  },
  {
   "cell_type": "code",
   "execution_count": 55,
   "id": "0625ada2",
   "metadata": {},
   "outputs": [
    {
     "name": "stdout",
     "output_type": "stream",
     "text": [
      "Test set\n",
      "\n",
      "Original dataset\n",
      "Random Forests roc-auc: 0.9642710318795081\n",
      "\n",
      "Resampled dataset\n",
      "Random Forests roc-auc: 0.9772022274544978\n"
     ]
    }
   ],
   "source": [
    "print('Test set')\n",
    "print('')\n",
    "print('Original dataset')\n",
    "print('Random Forests roc-auc: {}'.format(train_evaluate_randomforest(x_train,x_test,y_train,y_test)))\n",
    "print('')\n",
    "print(\"Resampled dataset\")\n",
    "print('Random Forests roc-auc: {}'.format(train_evaluate_randomforest(x_resampled,x_test,y_resampled,y_test)))"
   ]
  },
  {
   "cell_type": "code",
   "execution_count": 78,
   "id": "f064c791",
   "metadata": {},
   "outputs": [
    {
     "name": "stdout",
     "output_type": "stream",
     "text": [
      "0.9772022274544978\n",
      "0.9883768733415556\n",
      "0.9800176900748714\n",
      "0.984203510607816\n",
      "0.9807402424287726\n",
      "0.9844900399895354\n",
      "0.9814503369834685\n",
      "0.9815998305739309\n",
      "0.9781739357925028\n",
      "0.9775385880330381\n"
     ]
    }
   ],
   "source": [
    "#Varying the number of neighbours\n",
    "\n",
    "n_neighbours=np.arange(1,11)\n",
    "results=[]\n",
    "\n",
    "for n in n_neighbours:\n",
    "    n=int(n)\n",
    "    x_resampled,y_resampled=condensed_nearest_neighbour(x_train,y_train,n)\n",
    "    score=train_evaluate_randomforest(x_resampled,x_test,y_resampled,y_test)\n",
    "    print(score)\n",
    "    results=results+[score]\n",
    "    \n"
   ]
  }
 ],
 "metadata": {
  "kernelspec": {
   "display_name": "Python 3 (ipykernel)",
   "language": "python",
   "name": "python3"
  },
  "language_info": {
   "codemirror_mode": {
    "name": "ipython",
    "version": 3
   },
   "file_extension": ".py",
   "mimetype": "text/x-python",
   "name": "python",
   "nbconvert_exporter": "python",
   "pygments_lexer": "ipython3",
   "version": "3.7.0"
  }
 },
 "nbformat": 4,
 "nbformat_minor": 5
}
